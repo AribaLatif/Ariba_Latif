{
 "cells": [
  {
   "cell_type": "code",
   "execution_count": 1,
   "id": "b89792a6-7c14-4b1c-a580-4dd257434ce1",
   "metadata": {},
   "outputs": [],
   "source": [
    "#question no#1"
   ]
  },
  {
   "cell_type": "code",
   "execution_count": 2,
   "id": "68b09f17-0e6b-4a0e-b00d-a908b30970c0",
   "metadata": {},
   "outputs": [],
   "source": [
    "#class person"
   ]
  },
  {
   "cell_type": "code",
   "execution_count": 7,
   "id": "ecb04683-d6eb-4249-b58a-88cd3bcaffda",
   "metadata": {},
   "outputs": [
    {
     "name": "stdout",
     "output_type": "stream",
     "text": [
      "Alice, 30 years old, from New York\n"
     ]
    }
   ],
   "source": [
    "class Person:\n",
    "    def __init__(self, name, age, city):\n",
    "        self.name = name\n",
    "        self.age = age\n",
    "        self.city = city\n",
    "    \n",
    "    def __str__(self):\n",
    "        return f\"{self.name}, {self.age} years old, from {self.city}\"\n",
    "\n",
    "# Example usage:\n",
    "person1 = Person(\"Alice\", 30, \"New York\")\n",
    "print(person1)"
   ]
  },
  {
   "cell_type": "code",
   "execution_count": 8,
   "id": "1eb7d0f5-2c5a-4449-894a-cd38a392568c",
   "metadata": {},
   "outputs": [],
   "source": [
    "#question no#2"
   ]
  },
  {
   "cell_type": "code",
   "execution_count": 9,
   "id": "3cec4002-51ee-4289-99ca-77be415d3cbc",
   "metadata": {},
   "outputs": [],
   "source": [
    "#class car"
   ]
  },
  {
   "cell_type": "code",
   "execution_count": 10,
   "id": "ee2deb7c-c108-459a-91bd-a932644158fa",
   "metadata": {},
   "outputs": [
    {
     "name": "stdout",
     "output_type": "stream",
     "text": [
      "2020 Toyota Corolla\n"
     ]
    }
   ],
   "source": [
    "class Car:\n",
    "    def __init__(self, make, model, year):\n",
    "        self.make = make\n",
    "        self.model = model\n",
    "        self.year = year\n",
    "    \n",
    "    def __str__(self):\n",
    "        return f\"{self.year} {self.make} {self.model}\"\n",
    "\n",
    "# Example usage:\n",
    "car1 = Car(\"Toyota\", \"Corolla\", 2020)\n",
    "print(car1)"
   ]
  },
  {
   "cell_type": "code",
   "execution_count": 11,
   "id": "3aac03f2-7429-4c6f-ba8f-b7ec1d883d2e",
   "metadata": {},
   "outputs": [],
   "source": [
    "#question no #3"
   ]
  },
  {
   "cell_type": "code",
   "execution_count": 12,
   "id": "25ec1a27-737a-4bdf-be61-4c239dbea4d0",
   "metadata": {},
   "outputs": [],
   "source": [
    "#class circal"
   ]
  },
  {
   "cell_type": "code",
   "execution_count": 13,
   "id": "0a89791b-9fdd-4c10-a44d-1a75b228147d",
   "metadata": {},
   "outputs": [
    {
     "name": "stdout",
     "output_type": "stream",
     "text": [
      "Circle with radius 5\n",
      "Area: 78.53981633974483\n",
      "Circumference: 31.41592653589793\n"
     ]
    }
   ],
   "source": [
    "import math\n",
    "\n",
    "class Circle:\n",
    "    def __init__(self, radius):\n",
    "        self.radius = radius\n",
    "    \n",
    "    def area(self):\n",
    "        return math.pi * self.radius ** 2\n",
    "    \n",
    "    def circumference(self):\n",
    "        return 2 * math.pi * self.radius\n",
    "    def __str__(self):\n",
    "        return f\"Circle with radius {self.radius}\"\n",
    "\n",
    "# Example usage:\n",
    "circle1 = Circle(5)\n",
    "print(circle1)  # Print circle description\n",
    "print(f\"Area: {circle1.area()}\")  # Print area\n",
    "print(f\"Circumference: {circle1.circumference()}\")  #"
   ]
  },
  {
   "cell_type": "code",
   "execution_count": 14,
   "id": "2d045253-2bfe-4eb1-b102-4438309bba9d",
   "metadata": {},
   "outputs": [],
   "source": [
    "#question no#4"
   ]
  },
  {
   "cell_type": "code",
   "execution_count": 15,
   "id": "b9e600cc-ec11-4057-bb05-27a4255b88df",
   "metadata": {},
   "outputs": [],
   "source": [
    "#class rectangle"
   ]
  },
  {
   "cell_type": "code",
   "execution_count": 16,
   "id": "e32f2a99-72dc-41d1-bfe9-d2c1955ae1b5",
   "metadata": {},
   "outputs": [
    {
     "name": "stdout",
     "output_type": "stream",
     "text": [
      "Rectangle with length 10 and width 5\n",
      "Area: 50\n",
      "Perimeter: 30\n"
     ]
    }
   ],
   "source": [
    "class Rectangle:\n",
    "    def __init__(self, length, width):\n",
    "        self.length = length\n",
    "        self.width = width\n",
    "    \n",
    "    def area(self):\n",
    "        return self.length * self.width\n",
    "    \n",
    "    def perimeter(self):\n",
    "        return 2 * (self.length + self.width)\n",
    "    \n",
    "    def __str__(self):\n",
    "        return f\"Rectangle with length {self.length} and width {self.width}\"\n",
    "\n",
    "# Example usage:\n",
    "rectangle1 = Rectangle(10, 5)\n",
    "print(rectangle1)  # Print rectangle description\n",
    "print(f\"Area: {rectangle1.area()}\")  # Print area\n",
    "print(f\"Perimeter: {rectangle1.perimeter()}\")  # Print perimeter"
   ]
  },
  {
   "cell_type": "code",
   "execution_count": 17,
   "id": "6a8e2328-252f-47c7-bfba-07d57088d55a",
   "metadata": {},
   "outputs": [],
   "source": [
    "#question no#5"
   ]
  },
  {
   "cell_type": "code",
   "execution_count": 18,
   "id": "6c1fef1c-9915-4389-9af8-659dac977e29",
   "metadata": {},
   "outputs": [],
   "source": [
    "#class student"
   ]
  },
  {
   "cell_type": "code",
   "execution_count": 19,
   "id": "c46d3593-cacc-4f30-a594-630d4e44f9a0",
   "metadata": {},
   "outputs": [
    {
     "name": "stdout",
     "output_type": "stream",
     "text": [
      "Student: Alice, Roll Number: 101\n",
      "Average Marks: 86.60\n"
     ]
    }
   ],
   "source": [
    "class Student:\n",
    "    def __init__(self, name, roll_number, marks):\n",
    "        self.name = name\n",
    "        self.roll_number = roll_number\n",
    "        self.marks = marks  # List of marks\n",
    "        \n",
    "    def average_marks(self):\n",
    "        if len(self.marks) > 0:\n",
    "            return sum(self.marks) / len(self.marks)\n",
    "        else:\n",
    "            return 0  # Avoid division by zero if no marks are provided\n",
    "    \n",
    "    def __str__(self):\n",
    "        return f\"Student: {self.name}, Roll Number: {self.roll_number}\"\n",
    "\n",
    "# Example usage:\n",
    "student1 = Student(\"Alice\", 101, [85, 90, 78, 92, 88])\n",
    "print(student1)  # Print student information\n",
    "print(f\"Average Marks: {student1.average_marks():.2f}\")  # Print average marks"
   ]
  },
  {
   "cell_type": "code",
   "execution_count": 20,
   "id": "8a829420-ec26-42ba-bc86-8cc6a5ab3540",
   "metadata": {},
   "outputs": [],
   "source": [
    "#question no #6"
   ]
  },
  {
   "cell_type": "code",
   "execution_count": 21,
   "id": "46950a9f-b676-424d-8571-1b9cfc16070d",
   "metadata": {},
   "outputs": [],
   "source": [
    "#class book"
   ]
  },
  {
   "cell_type": "code",
   "execution_count": 22,
   "id": "6a19ddac-d049-4e1f-9496-bd6163480b4f",
   "metadata": {},
   "outputs": [
    {
     "name": "stdout",
     "output_type": "stream",
     "text": [
      "'The Great Gatsby' by F. Scott Fitzgerald, Published in 1925\n"
     ]
    }
   ],
   "source": [
    "class Book:\n",
    "    def __init__(self, title, author, publication_year):\n",
    "        self.title = title\n",
    "        self.author = author\n",
    "        self.publication_year = publication_year\n",
    "    \n",
    "    def __str__(self):\n",
    "        return f\"'{self.title}' by {self.author}, Published in {self.publication_year}\"\n",
    "\n",
    "# Example usage:\n",
    "book1 = Book(\"The Great Gatsby\", \"F. Scott Fitzgerald\", 1925)\n",
    "print(book1)"
   ]
  },
  {
   "cell_type": "code",
   "execution_count": 23,
   "id": "a46aa604-4fe0-417f-8731-6d5f9df2ed12",
   "metadata": {},
   "outputs": [],
   "source": [
    "#question no #7"
   ]
  },
  {
   "cell_type": "code",
   "execution_count": 24,
   "id": "87471337-bedd-4b79-9006-1540db6db93b",
   "metadata": {},
   "outputs": [],
   "source": [
    "#CLASS EMPLOYEE"
   ]
  },
  {
   "cell_type": "code",
   "execution_count": 25,
   "id": "de780558-8cd8-495a-a32a-d63d76ef0ad6",
   "metadata": {},
   "outputs": [
    {
     "name": "stdout",
     "output_type": "stream",
     "text": [
      "Employee: John Doe, Designation: Software Engineer, Salary: $55,000.00\n"
     ]
    }
   ],
   "source": [
    "class Employee:\n",
    "    def __init__(self, name, salary, designation):\n",
    "        self.name = name\n",
    "        self.salary = salary\n",
    "        self.designation = designation\n",
    "    \n",
    "    def __str__(self):\n",
    "        return f\"Employee: {self.name}, Designation: {self.designation}, Salary: ${self.salary:,.2f}\"\n",
    "\n",
    "# Example usage:\n",
    "employee1 = Employee(\"John Doe\", 55000, \"Software Engineer\")\n",
    "print(employee1)"
   ]
  },
  {
   "cell_type": "code",
   "execution_count": 26,
   "id": "c0c49980-1c39-4430-a617-cb0f94912b27",
   "metadata": {},
   "outputs": [],
   "source": [
    "#QUESTION NO#8"
   ]
  },
  {
   "cell_type": "code",
   "execution_count": 27,
   "id": "752f98c2-6246-43ac-87ee-660cc6690247",
   "metadata": {},
   "outputs": [],
   "source": [
    "#CLASS BANK"
   ]
  },
  {
   "cell_type": "code",
   "execution_count": 28,
   "id": "5059bc51-61d8-41df-88ba-1b60e29239e4",
   "metadata": {},
   "outputs": [
    {
     "name": "stdout",
     "output_type": "stream",
     "text": [
      "Account Holder: Alice Johnson, Account Number: 123456789, Balance: $1,000.00\n",
      "Deposited $500.00. New balance: $1,500.00\n",
      "Withdrew $200.00. New balance: $1,300.00\n",
      "Insufficient balance for this withdrawal.\n"
     ]
    }
   ],
   "source": [
    "class Bank:\n",
    "    def __init__(self, name, account_number, balance=0):\n",
    "        self.name = name\n",
    "        self.account_number = account_number\n",
    "        self.balance = balance\n",
    "    \n",
    "    def deposit(self, amount):\n",
    "        if amount > 0:\n",
    "            self.balance += amount\n",
    "            print(f\"Deposited ${amount:,.2f}. New balance: ${self.balance:,.2f}\")\n",
    "        else:\n",
    "            print(\"Deposit amount must be positive.\")\n",
    "    \n",
    "    def withdraw(self, amount):\n",
    "        if amount > 0:\n",
    "            if amount <= self.balance:\n",
    "                self.balance -= amount\n",
    "                print(f\"Withdrew ${amount:,.2f}. New balance: ${self.balance:,.2f}\")\n",
    "            else:\n",
    "                print(\"Insufficient balance for this withdrawal.\")\n",
    "        else:\n",
    "            print(\"Withdrawal amount must be positive.\")\n",
    "    \n",
    "    def __str__(self):\n",
    "        return f\"Account Holder: {self.name}, Account Number: {self.account_number}, Balance: ${self.balance:,.2f}\"\n",
    "\n",
    "# Example usage:\n",
    "account1 = Bank(\"Alice Johnson\", 123456789, 1000)\n",
    "print(account1)\n",
    "\n",
    "# Deposit money\n",
    "account1.deposit(500)\n",
    "\n",
    "# Withdraw money\n",
    "account1.withdraw(200)\n",
    "\n",
    "# Withdraw an amount larger than the balance\n",
    "account1.withdraw(2000)"
   ]
  },
  {
   "cell_type": "code",
   "execution_count": 29,
   "id": "7a2499a7-1695-4219-b0c1-8dd084860975",
   "metadata": {},
   "outputs": [],
   "source": [
    "#QUESTION NO #9"
   ]
  },
  {
   "cell_type": "code",
   "execution_count": 30,
   "id": "e33de1b7-ab80-43eb-bf3c-7037fbd43673",
   "metadata": {},
   "outputs": [],
   "source": [
    "#CLASS SHAPE"
   ]
  },
  {
   "cell_type": "code",
   "execution_count": 33,
   "id": "d4673f5c-6b32-452e-8ef4-b045242ebdcf",
   "metadata": {},
   "outputs": [
    {
     "name": "stdout",
     "output_type": "stream",
     "text": [
      "Circle Area: 78.54\n",
      "Rectangle Area: 50.00\n",
      "Triangle Area: 12.00\n"
     ]
    }
   ],
   "source": [
    "\n",
    "import math\n",
    "\n",
    "# Base class Shape\n",
    "class Shape:\n",
    "    def area(self):\n",
    "        raise NotImplementedError(\"Subclass must implement abstract method\")\n",
    "\n",
    "# Subclass Circle\n",
    "class Circle(Shape):\n",
    "    def __init__(self, radius):\n",
    "        self.radius = radius\n",
    "    \n",
    "    def area(self):\n",
    "        return math.pi * self.radius ** 2\n",
    "\n",
    "# Subclass Rectangle\n",
    "class Rectangle(Shape):\n",
    "    def __init__(self, length, width):\n",
    "        self.length = length\n",
    "        self.width = width\n",
    "    \n",
    "    def area(self):\n",
    "        return self.length * self.width\n",
    "\n",
    "# Subclass Triangle\n",
    "class Triangle(Shape):\n",
    "    def __init__(self, base, height):\n",
    "        self.base = base\n",
    "        self.height = height\n",
    "    \n",
    "    def area(self):\n",
    "        return 0.5 * self.base * self.height\n",
    "\n",
    "# Example usage:\n",
    "circle = Circle(5)\n",
    "rectangle = Rectangle(10, 5)\n",
    "triangle = Triangle(6, 4)\n",
    "\n",
    "print(f\"Circle Area: {circle.area():.2f}\")\n",
    "print(f\"Rectangle Area: {rectangle.area():.2f}\")\n",
    "print(f\"Triangle Area: {triangle.area():.2f}\")"
   ]
  },
  {
   "cell_type": "code",
   "execution_count": 34,
   "id": "a85c5d4b-1a5c-40fd-9d06-142dc9865525",
   "metadata": {},
   "outputs": [],
   "source": [
    "#question no#10"
   ]
  },
  {
   "cell_type": "code",
   "execution_count": 35,
   "id": "4de3af62-56e3-466a-a181-e9c7662eaee0",
   "metadata": {},
   "outputs": [],
   "source": [
    "#class animal"
   ]
  },
  {
   "cell_type": "code",
   "execution_count": 36,
   "id": "208880c4-2279-4841-a58f-9fe98346013b",
   "metadata": {},
   "outputs": [
    {
     "name": "stdout",
     "output_type": "stream",
     "text": [
      "Buddy says Woof\n",
      "Whiskers says Meow\n",
      "Daisy says Moo\n"
     ]
    }
   ],
   "source": [
    "# Base class Animal\n",
    "class Animal:\n",
    "    def __init__(self, name, sound):\n",
    "        self.name = name\n",
    "        self.sound = sound\n",
    "    \n",
    "    def make_sound(self):\n",
    "        return self.sound\n",
    "    \n",
    "    def __str__(self):\n",
    "        return f\"{self.name} says {self.sound}\"\n",
    "\n",
    "# Subclass Dog\n",
    "class Dog(Animal):\n",
    "    def __init__(self, name):\n",
    "        super().__init__(name, \"Woof\")\n",
    "\n",
    "# Subclass Cat\n",
    "class Cat(Animal):\n",
    "    def __init__(self, name):\n",
    "        super().__init__(name, \"Meow\")\n",
    "\n",
    "# Subclass Cow\n",
    "class Cow(Animal):\n",
    "    def __init__(self, name):\n",
    "        super().__init__(name, \"Moo\")\n",
    "\n",
    "# Example usage:\n",
    "dog = Dog(\"Buddy\")\n",
    "cat = Cat(\"Whiskers\")\n",
    "cow = Cow(\"Daisy\")\n",
    "\n",
    "print(dog)\n",
    "print(cat)  \n",
    "print(cow)  "
   ]
  },
  {
   "cell_type": "code",
   "execution_count": null,
   "id": "d3171944-c904-4c4a-b871-78c8d2c6c809",
   "metadata": {},
   "outputs": [],
   "source": []
  }
 ],
 "metadata": {
  "kernelspec": {
   "display_name": "Python 3 (ipykernel)",
   "language": "python",
   "name": "python3"
  },
  "language_info": {
   "codemirror_mode": {
    "name": "ipython",
    "version": 3
   },
   "file_extension": ".py",
   "mimetype": "text/x-python",
   "name": "python",
   "nbconvert_exporter": "python",
   "pygments_lexer": "ipython3",
   "version": "3.12.4"
  }
 },
 "nbformat": 4,
 "nbformat_minor": 5
}
